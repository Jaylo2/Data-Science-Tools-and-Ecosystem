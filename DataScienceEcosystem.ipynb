{
 "cells": [
  {
   "cell_type": "markdown",
   "id": "34d7f6c8-fbd7-4feb-86ce-dfb408860a3b",
   "metadata": {},
   "source": [
    "# Data Science Tools and Ecosystem"
   ]
  },
  {
   "cell_type": "markdown",
   "id": "6dae10d2-5f38-4443-9176-bfe203ffe885",
   "metadata": {},
   "source": [
    "In this notebook, Data Science Tools and Ecosystem are summarized."
   ]
  },
  {
   "cell_type": "markdown",
   "id": "2cf9190e-c5ed-4c05-9c6f-42319e48bbd5",
   "metadata": {},
   "source": [
    "Some of the commonly used libraries used by Data Scientists include:\n",
    "1. Python\n",
    "2. R\n",
    "3. SQL"
   ]
  },
  {
   "cell_type": "markdown",
   "id": "72e26cfd-a1c9-4a68-95f1-3d28435098d1",
   "metadata": {},
   "source": [
    "Some of the commonly used libraries used by Data Scientists include:\n",
    "\n",
    "1. NumPy\n",
    "2. SciPy\n",
    "3. PANDAS"
   ]
  },
  {
   "cell_type": "markdown",
   "id": "c1b87867-da97-4262-bf26-280c30b7256a",
   "metadata": {},
   "source": [
    "| Data Science Tools |\n",
    " --------------------\n",
    "| SciKIt-Learn |\n",
    "| Seaborn |\n",
    "| Jupyter Notebooks |"
   ]
  },
  {
   "cell_type": "markdown",
   "id": "671dc1f8-c056-42d3-9dbc-1c63bd23232a",
   "metadata": {},
   "source": [
    "### Below are a few examples of evaluating arithmetic expressions in Python :"
   ]
  },
  {
   "cell_type": "markdown",
   "id": "e002e346-7410-4cc1-bd38-25da1d9796f5",
   "metadata": {},
   "source": [
    "This a simple arithmetic expression to mutiply then add integers"
   ]
  },
  {
   "cell_type": "code",
   "execution_count": 8,
   "id": "8c0a4027-e4f7-4b4d-ac67-9dea0836b198",
   "metadata": {},
   "outputs": [
    {
     "data": {
      "text/plain": [
       "17"
      ]
     },
     "execution_count": 8,
     "metadata": {},
     "output_type": "execute_result"
    }
   ],
   "source": [
    "(3*4)+5"
   ]
  },
  {
   "cell_type": "markdown",
   "id": "a975b5f8-da7e-47ff-88cd-f91d21663da9",
   "metadata": {},
   "source": [
    "This will convert 200 minutes to hours by diving by 60"
   ]
  },
  {
   "cell_type": "code",
   "execution_count": 9,
   "id": "5952fe3c-b177-44cd-8e14-57e677cd187f",
   "metadata": {},
   "outputs": [
    {
     "name": "stdout",
     "output_type": "stream",
     "text": [
      "3.3333333333333335\n"
     ]
    }
   ],
   "source": [
    "Minutes = 200\n",
    "Minutes = (Minutes / 60)\n",
    "print(Minutes)"
   ]
  },
  {
   "cell_type": "markdown",
   "id": "2989956a-3fec-4c1c-9703-55f3f1be8dfd",
   "metadata": {},
   "source": [
    "**Objectives:**"
   ]
  },
  {
   "cell_type": "markdown",
   "id": "14f01b21-f092-4e18-80fc-1bfaa8cba6bc",
   "metadata": {},
   "source": [
    "- To give a description of the tools and ecosystem for Data Science\n",
    "- To show some commonly used libries for Data Science\n",
    "- To show some popular languages used in Data Science"
   ]
  },
  {
   "cell_type": "markdown",
   "id": "783d822e-539a-46e9-ae8d-c4cf00c2f0d8",
   "metadata": {},
   "source": [
    "## Author\n",
    "Emery Jay Evans"
   ]
  },
  {
   "cell_type": "code",
   "execution_count": null,
   "id": "a24a93aa-d158-48ee-8783-d6c3528c0174",
   "metadata": {},
   "outputs": [],
   "source": []
  }
 ],
 "metadata": {
  "kernelspec": {
   "display_name": "Python 3 (ipykernel)",
   "language": "python",
   "name": "python3"
  },
  "language_info": {
   "codemirror_mode": {
    "name": "ipython",
    "version": 3
   },
   "file_extension": ".py",
   "mimetype": "text/x-python",
   "name": "python",
   "nbconvert_exporter": "python",
   "pygments_lexer": "ipython3",
   "version": "3.11.7"
  }
 },
 "nbformat": 4,
 "nbformat_minor": 5
}
